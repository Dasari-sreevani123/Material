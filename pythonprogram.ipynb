{
 "cells": [
  {
   "cell_type": "code",
   "execution_count": 1,
   "metadata": {},
   "outputs": [
    {
     "name": "stdout",
     "output_type": "stream",
     "text": [
      "Hello World!\n"
     ]
    }
   ],
   "source": [
    "#Hello world\n",
    "print(\"Hello World!\")"
   ]
  },
  {
   "cell_type": "code",
   "execution_count": 2,
   "metadata": {},
   "outputs": [
    {
     "name": "stdout",
     "output_type": "stream",
     "text": [
      "positive\n"
     ]
    }
   ],
   "source": [
    "#positive or negative number #method -- 3\n",
    "n = int(input(\"enter a number:\"))\n",
    "print(\"positive\") if n>=0  else \"negative\""
   ]
  },
  {
   "cell_type": "code",
   "execution_count": 13,
   "metadata": {},
   "outputs": [
    {
     "data": {
      "text/plain": [
       "'odd'"
      ]
     },
     "execution_count": 13,
     "metadata": {},
     "output_type": "execute_result"
    }
   ],
   "source": [
    "#Even or odd Method --- 2\n",
    "n = int(input(\"enter a number:\"))\n",
    "print(\"Even\") if n%2 == 0 else \"odd\""
   ]
  },
  {
   "cell_type": "code",
   "execution_count": 19,
   "metadata": {},
   "outputs": [
    {
     "name": "stdout",
     "output_type": "stream",
     "text": [
      "0\n",
      "1\n",
      "3\n",
      "6\n",
      "10\n",
      "15\n",
      "21\n",
      "28\n",
      "36\n"
     ]
    }
   ],
   "source": [
    "#sum of first N Natural numbers  \n",
    "n = int(input(\"enter a number:\"))\n",
    "sum = 0\n",
    "for i in range(n):\n",
    "    sum = sum + i\n",
    "    print(sum)"
   ]
  },
  {
   "cell_type": "code",
   "execution_count": 2,
   "metadata": {},
   "outputs": [
    {
     "name": "stdout",
     "output_type": "stream",
     "text": [
      "21\n"
     ]
    }
   ],
   "source": [
    "#sum of natural numbers method -- 1\n",
    "n = int(input(\"enter a number:\"))\n",
    "#sum = 0\n",
    "#x = n * (n + 1) // 2\n",
    "for i in range(n+1):\n",
    "    x = n * (n + 1) // 2\n",
    "print(x)\n"
   ]
  },
  {
   "cell_type": "code",
   "execution_count": 2,
   "metadata": {},
   "outputs": [
    {
     "name": "stdout",
     "output_type": "stream",
     "text": [
      "30\n",
      "30\n",
      "30\n",
      "30\n",
      "30\n"
     ]
    }
   ],
   "source": [
    "#sum of numbers in a given range method ---1\n",
    "a = int(input(\"enter a number:\"))\n",
    "b = int(input(\"enter a number:\"))\n",
    "sum  = 0\n",
    "for i in range(a,b+1):\n",
    "    #sum  = sum + i\n",
    "    print ((b * (b + 1) // 2) - (a * (a + 1) // 2) + a)\n",
    "    #print(sum)"
   ]
  },
  {
   "cell_type": "code",
   "execution_count": 3,
   "metadata": {},
   "outputs": [
    {
     "name": "stdout",
     "output_type": "stream",
     "text": [
      "9 is greaater\n"
     ]
    }
   ],
   "source": [
    "#greatest of two numbers   Method---1\n",
    "n1 = int(input(\"enter a number:\"))\n",
    "n2 = int(input(\"enter a number:\"))\n",
    "if n1 > n2:                                                       \n",
    "    print(f\"{n1} is greater\")\n",
    "else:\n",
    "    print(f\"{n2} is greaater\")"
   ]
  },
  {
   "cell_type": "code",
   "execution_count": 35,
   "metadata": {},
   "outputs": [
    {
     "name": "stdout",
     "output_type": "stream",
     "text": [
      "n1 is greater\n"
     ]
    }
   ],
   "source": [
    "#greatest of two numbers   Method---2\n",
    "n1 = int(input(\"enter a number:\"))\n",
    "n2 = int(input(\"enter a number:\"))\n",
    "print(\"n1 is greater\") if n1>n2 else \"n2 is greater\""
   ]
  },
  {
   "cell_type": "code",
   "execution_count": 4,
   "metadata": {},
   "outputs": [
    {
     "name": "stdout",
     "output_type": "stream",
     "text": [
      "69\n"
     ]
    }
   ],
   "source": [
    "#greatest of two numbers   Method---3\n",
    "n1 = int(input(\"enter a number:\"))\n",
    "n2 = int(input(\"enter a number:\"))\n",
    "print(max(n1,n2))"
   ]
  },
  {
   "cell_type": "code",
   "execution_count": 39,
   "metadata": {},
   "outputs": [
    {
     "name": "stdout",
     "output_type": "stream",
     "text": [
      "n3 is greater\n"
     ]
    }
   ],
   "source": [
    "#greatest of three numbers   Method---1\n",
    "n1 = int(input(\"enter a number:\"))\n",
    "n2 = int(input(\"enter a number:\"))\n",
    "n3 = int(input(\"enter a number:\"))\n",
    "if n1>n2 & n1>n3:\n",
    "    print(\"n1 is greater\")\n",
    "elif n2>n1 & n2>n3:\n",
    "    print(\"n2 is greater\")\n",
    "else:\n",
    "    print(\"n3 is greater\")\n",
    "\n"
   ]
  },
  {
   "cell_type": "code",
   "execution_count": 41,
   "metadata": {},
   "outputs": [
    {
     "name": "stdout",
     "output_type": "stream",
     "text": [
      "9\n"
     ]
    }
   ],
   "source": [
    "#greatest of three numbers   Method---3\n",
    "n1 = int(input(\"enter a number:\"))\n",
    "n2 = int(input(\"enter a number:\"))\n",
    "n3 = int(input(\"enter a number:\"))\n",
    "print(max(n1,n2,n3))"
   ]
  },
  {
   "cell_type": "code",
   "execution_count": 3,
   "metadata": {},
   "outputs": [
    {
     "name": "stdout",
     "output_type": "stream",
     "text": [
      "not leap\n"
     ]
    }
   ],
   "source": [
    "n = int(input(\"enter a number:\"))\n",
    "if (n % 400 == 0 ) or (n % 4 == 0 and n % 100  != 0):\n",
    "    print(\"leap\")\n",
    "else:\n",
    "    print(\"not leap\")"
   ]
  },
  {
   "cell_type": "code",
   "execution_count": 5,
   "metadata": {},
   "outputs": [
    {
     "name": "stdout",
     "output_type": "stream",
     "text": [
      "8\n",
      "15\n",
      "21\n",
      "26\n"
     ]
    }
   ],
   "source": [
    "#sum of digits of numbers\n",
    "num = int(input(\"Enter num :\"))\n",
    "sum = 0\n",
    "while num != 0:\n",
    "    sum  = sum + num % 10\n",
    "    num  = num//10\n",
    "    print(sum)\n"
   ]
  },
  {
   "cell_type": "code",
   "execution_count": 3,
   "metadata": {},
   "outputs": [
    {
     "name": "stdout",
     "output_type": "stream",
     "text": [
      "4\n",
      "43\n",
      "432\n",
      "4321\n"
     ]
    }
   ],
   "source": [
    "#reverse of a number method --1\n",
    "num = int(input(\"Enter num :\"))\n",
    "rem = 0\n",
    "reverse = 0\n",
    "while num != 0:\n",
    "    rem = num % 10\n",
    "    reverse = reverse * 10 + rem\n",
    "    num = num // 10\n",
    "    print(reverse)\n"
   ]
  },
  {
   "cell_type": "code",
   "execution_count": 13,
   "metadata": {},
   "outputs": [
    {
     "name": "stdout",
     "output_type": "stream",
     "text": [
      "-987\n"
     ]
    }
   ],
   "source": [
    "#reverse of a number in negative sequence   method --1\n",
    "def reverse(n):\n",
    "    if n < 0:\n",
    "        n = str(abs(n))+\"-\"\n",
    "    return int(str(n)[::-1])\n",
    "n = int(input(\"enter a number:\"))\n",
    "print(reverse(n))"
   ]
  },
  {
   "cell_type": "code",
   "execution_count": 15,
   "metadata": {},
   "outputs": [
    {
     "name": "stdout",
     "output_type": "stream",
     "text": [
      "palindrome\n"
     ]
    }
   ],
   "source": [
    "#palindrom or not \n",
    "num = int(input(\"Enter a number:\"))\n",
    "rem = 0\n",
    "reverse = 0\n",
    "temp = num\n",
    "while temp != 0:\n",
    "    rem = temp % 10\n",
    "    reverse = reverse * 10 + rem\n",
    "    temp = temp // 10\n",
    "if num == reverse:\n",
    "    print(\"palindrome\")\n",
    "else:\n",
    "    print(\"not palindrome\")"
   ]
  },
  {
   "cell_type": "code",
   "execution_count": 13,
   "metadata": {},
   "outputs": [
    {
     "name": "stdout",
     "output_type": "stream",
     "text": [
      "15 is a not prime\n"
     ]
    }
   ],
   "source": [
    "#prime number or not\n",
    "n = int(input(\"Enter a number:\"))\n",
    "count = 0\n",
    "for i in range(1,n+1):\n",
    "    if n % i == 0:\n",
    "        count += 1\n",
    "if count > 2:\n",
    "    print(f\"{n} is a not prime\")\n",
    "else:\n",
    "    print(f\"{n} is a  prime\")"
   ]
  },
  {
   "cell_type": "code",
   "execution_count": 51,
   "metadata": {},
   "outputs": [
    {
     "name": "stdout",
     "output_type": "stream",
     "text": [
      "not a prime\n"
     ]
    }
   ],
   "source": [
    "#prime number or not\n",
    "n = int(input(\"Enter a number:\"))\n",
    "count = 0\n",
    "if n > 1:\n",
    "    for i in range(1,n+1):\n",
    "        if (n % i ) == 0 :\n",
    "            count = count + 1\n",
    "    if count == 2:\n",
    "        print('prime')\n",
    "    else:\n",
    "        print('not a prime')\n"
   ]
  },
  {
   "cell_type": "code",
   "execution_count": 1,
   "metadata": {},
   "outputs": [
    {
     "name": "stdout",
     "output_type": "stream",
     "text": [
      "Square root : 4.0\n",
      "Square: 25\n",
      "Cube root: 1.414213562373095\n"
     ]
    }
   ],
   "source": [
    "import math\n",
    "a = int(input(\"enter first number: \"))\n",
    "b = int(input(\"enter second number: \"))\n",
    "c = int(input(\"enter third number: \"))\n",
    "\n",
    "sqroot = math.sqrt(a)\n",
    "square = b ** 2\n",
    "cb = c ** (1/6)                                \n",
    "\n",
    "print(\"Square root :\", sqroot)\n",
    "print(\"Square:\", square)\n",
    "print(\"Cube root:\", cb)\n",
    "\n"
   ]
  },
  {
   "cell_type": "code",
   "execution_count": 16,
   "metadata": {},
   "outputs": [
    {
     "name": "stdout",
     "output_type": "stream",
     "text": [
      "243\n"
     ]
    }
   ],
   "source": [
    "#power of a number\n",
    "base = int(input(\"Enter a number:\"))\n",
    "expo = int(input(\"Enter a number:\"))\n",
    "total = pow(base,expo)\n",
    "print(total)"
   ]
  },
  {
   "cell_type": "code",
   "execution_count": 2,
   "metadata": {},
   "outputs": [
    {
     "name": "stdout",
     "output_type": "stream",
     "text": [
      "Multiplication Table of : \n",
      "87 x 1 = 87\n",
      "87 x 2 = 174\n",
      "87 x 3 = 261\n",
      "87 x 4 = 348\n",
      "87 x 5 = 435\n",
      "87 x 6 = 522\n",
      "87 x 7 = 609\n",
      "87 x 8 = 696\n",
      "87 x 9 = 783\n",
      "87 x 10 = 870\n"
     ]
    }
   ],
   "source": [
    "#multiples of a numbers/Tables\n",
    "num = int(input(\" Enter the number : \"))    \n",
    "print(\"Multiplication Table of : \")  \n",
    "for i in range(1,11):    \n",
    "    print(num,'x',i,'=',num * i)\n"
   ]
  },
  {
   "cell_type": "code",
   "execution_count": 3,
   "metadata": {},
   "outputs": [
    {
     "name": "stdout",
     "output_type": "stream",
     "text": [
      "121 is a  not Armstrong number\n"
     ]
    }
   ],
   "source": [
    "#Armstrong number\n",
    "num = int(input(\"Enter a number:\"))\n",
    "temp = num\n",
    "sum = 0\n",
    "while temp != 0:\n",
    "    order = len(str(num))\n",
    "    digit = temp % 10\n",
    "    sum = sum + pow(digit,order)\n",
    "    temp = temp // 10\n",
    "if num == sum:\n",
    "    print(f\"{num} is a Armstrong number.\")\n",
    "else:\n",
    "    print(f\"{num} is a  not Armstrong number\")\n",
    "\n",
    "\n"
   ]
  },
  {
   "cell_type": "code",
   "execution_count": 6,
   "metadata": {},
   "outputs": [
    {
     "name": "stdout",
     "output_type": "stream",
     "text": [
      "153 is an Armstrong number.\n"
     ]
    }
   ],
   "source": [
    "# Function to calculate the number of digits in a number\n",
    "def order(num):\n",
    "    return len(str(num))\n",
    "\n",
    "# Function to check if a number is an Armstrong number\n",
    "def armstrong(num, len):\n",
    "    temp = num\n",
    "    sum = 0\n",
    "    \n",
    "    while temp != 0:\n",
    "        digit = temp % 10\n",
    "        sum += digit ** len\n",
    "        temp //= 10\n",
    "    \n",
    "    return sum == num\n",
    "\n",
    "num = int(input(\"Enter a number: \"))\n",
    "len = order(num)\n",
    "\n",
    "if armstrong(num, len):\n",
    "    print(f\"{num} is an Armstrong number.\")\n",
    "else:\n",
    "    print(f\"{num} is not an Armstrong number.\")"
   ]
  },
  {
   "cell_type": "code",
   "execution_count": 7,
   "metadata": {},
   "outputs": [
    {
     "name": "stdout",
     "output_type": "stream",
     "text": [
      "The HCF of given numbers is: 10\n"
     ]
    }
   ],
   "source": [
    "#hcf --- method\n",
    "a = int(input(\"enter a number:\"))\n",
    "b = int(input(\"enter a number:\"))\n",
    "hcf = 1\n",
    "smaller = a  if a < b else b\n",
    "for i in range(1,smaller+1):\n",
    "    if(a % i == 0) and (b % i == 0):\n",
    "        hcf = i\n",
    "print(\"The HCF of given numbers is: \" + str(hcf))\n",
    "    "
   ]
  },
  {
   "cell_type": "code",
   "execution_count": 8,
   "metadata": {},
   "outputs": [
    {
     "name": "stdout",
     "output_type": "stream",
     "text": [
      "The HCF of given numbers is: 10\n"
     ]
    }
   ],
   "source": [
    "#hcf --- method 2  (repetation method)\n",
    "a = int(input(\"enter a number:\"))\n",
    "b = int(input(\"enter a number:\"))\n",
    "hcf = 1\n",
    "while a !=  b:\n",
    "    if a > b:\n",
    "        a = a - b\n",
    "    else:\n",
    "        b = b - a\n",
    "print(\"The HCF of given numbers is: \" +str(a))\n"
   ]
  },
  {
   "cell_type": "code",
   "execution_count": 10,
   "metadata": {},
   "outputs": [
    {
     "name": "stdout",
     "output_type": "stream",
     "text": [
      "The LCM of given numbers is: 150\n"
     ]
    }
   ],
   "source": [
    "#hcf --- method\n",
    "a = int(input(\"enter a number:\"))\n",
    "b = int(input(\"enter a number:\"))\n",
    "hcf = 1\n",
    "smaller = a  if a < b else b\n",
    "for i in range(1,smaller+1):\n",
    "    if(a % i == 0) and (b % i == 0):\n",
    "        hcf = i\n",
    "lcm =  ( a * b ) // 2\n",
    "print(\"The LCM of given numbers is: \" + str(int(lcm)))\n",
    "    "
   ]
  },
  {
   "cell_type": "code",
   "execution_count": 4,
   "metadata": {},
   "outputs": [
    {
     "name": "stdout",
     "output_type": "stream",
     "text": [
      "6\n"
     ]
    }
   ],
   "source": [
    "#factorial of a number\n",
    "factorial = 1\n",
    "num =3\n",
    "if num < 0:\n",
    "    print(\"Factorial does not exist negative numbers:\")\n",
    "elif num == 0:\n",
    "    print(\"Factorial of 0 is 1\")\n",
    "else:\n",
    "    for i in range(1,num+1):\n",
    "        factorial = factorial * i\n",
    "    print(factorial)"
   ]
  },
  {
   "cell_type": "code",
   "execution_count": 7,
   "metadata": {},
   "outputs": [
    {
     "name": "stdout",
     "output_type": "stream",
     "text": [
      "0\n",
      "1\n",
      "1\n",
      "2\n",
      "3\n",
      "5\n",
      "8\n",
      "13\n",
      "21\n",
      "34\n"
     ]
    }
   ],
   "source": [
    "#fibonacci series\n",
    "n1 = 0\n",
    "n2 = 1\n",
    "print(n1)\n",
    "print(n2)\n",
    "for i in range(2,10):\n",
    "    sum = n1 + n2\n",
    "    print(sum)\n",
    "    n1 = n2    \n",
    "    n2 = sum"
   ]
  },
  {
   "cell_type": "code",
   "execution_count": null,
   "metadata": {},
   "outputs": [
    {
     "name": "stdout",
     "output_type": "stream",
     "text": [
      "23\n",
      "45\n",
      "45\n",
      "23\n"
     ]
    }
   ],
   "source": [
    "#swapping of two numbers\n",
    "a = int(input(\"Enter a number:\"))\n",
    "b = int(input(\"Enter a number:\"))\n",
    "print(a)   #before swapping\n",
    "print(b)   #before swapping\n",
    "temp = a\n",
    "a = b\n",
    "b = temp\n",
    "print(a)     #after swapping\n",
    "print(b)     #after swapping"
   ]
  },
  {
   "cell_type": "code",
   "execution_count": 14,
   "metadata": {},
   "outputs": [
    {
     "name": "stdout",
     "output_type": "stream",
     "text": [
      "1\n",
      "2\n",
      "4\n",
      "5\n",
      "6\n"
     ]
    }
   ],
   "source": [
    "#while loop\n",
    "i = 0\n",
    "while i < 6:\n",
    "    i = i + 1\n",
    "    if i == 3:\n",
    "        continue\n",
    "    print(i)\n",
    "    \n"
   ]
  },
  {
   "cell_type": "code",
   "execution_count": 6,
   "metadata": {},
   "outputs": [
    {
     "name": "stdout",
     "output_type": "stream",
     "text": [
      "The9rain9in Spain\n"
     ]
    },
    {
     "name": "stderr",
     "output_type": "stream",
     "text": [
      "<>:3: SyntaxWarning: invalid escape sequence '\\s'\n",
      "<>:3: SyntaxWarning: invalid escape sequence '\\s'\n",
      "C:\\Users\\dvvr2\\AppData\\Local\\Temp\\ipykernel_18064\\2178968812.py:3: SyntaxWarning: invalid escape sequence '\\s'\n",
      "  x = re.sub(\"\\s\", \"9\", txt, 2)\n"
     ]
    }
   ],
   "source": [
    "import re\n",
    "txt = \"The rain in Spain\"\n",
    "x = re.sub(\"\\s\", \"9\", txt, 2)\n",
    "print(x)\n"
   ]
  },
  {
   "cell_type": "code",
   "execution_count": 1,
   "metadata": {},
   "outputs": [
    {
     "name": "stdout",
     "output_type": "stream",
     "text": [
      "['__class__', '__delattr__', '__dict__', '__dir__', '__doc__', '__eq__', '__format__', '__ge__', '__getattribute__', '__getstate__', '__gt__', '__hash__', '__init__', '__init_subclass__', '__le__', '__lt__', '__module__', '__ne__', '__new__', '__reduce__', '__reduce_ex__', '__repr__', '__setattr__', '__sizeof__', '__str__', '__subclasshook__', '__weakref__', 'age', 'country', 'name']\n"
     ]
    }
   ],
   "source": [
    "class Person:\n",
    "  name = \"John\"\n",
    "  age = 36\n",
    "  country = \"Norway\"\n",
    "\n",
    "print(dir(Person))"
   ]
  },
  {
   "cell_type": "code",
   "execution_count": 8,
   "metadata": {},
   "outputs": [
    {
     "name": "stdout",
     "output_type": "stream",
     "text": [
      "1,1,2,2,2,4,2,5,"
     ]
    }
   ],
   "source": [
    "#remove all 2's \n",
    "a = [1,1,2,2,2,3,4,3,2,5]\n",
    "def my_function(x):\n",
    "    if x == 3:\n",
    "        return False\n",
    "    else:\n",
    "        return True\n",
    "y = filter(my_function,a)\n",
    "for x in y:\n",
    "    print(x, end = \",\")"
   ]
  },
  {
   "cell_type": "code",
   "execution_count": 30,
   "metadata": {},
   "outputs": [
    {
     "name": "stdout",
     "output_type": "stream",
     "text": [
      "vishnu\n",
      "sree\n"
     ]
    }
   ],
   "source": [
    "a = [20.0,21.0,21.0]\n",
    "names = [\"sree\",\"chandra\",\"vishnu\"]\n",
    "n = 3\n",
    "a.sort()\n",
    "#print(a)\n",
    "names.sort()\n",
    "#print(names)\n",
    "for i in range(n):\n",
    "    if a[i] < a[i - 1]:             \n",
    "        print(names[ i - 1])\n",
    "    elif a[i] == a[i - 1]:\n",
    "        print(names[i - 1]) \n",
    "    else:\n",
    "        pass\n",
    "        \n",
    "    "
   ]
  },
  {
   "cell_type": "code",
   "execution_count": 33,
   "metadata": {},
   "outputs": [
    {
     "ename": "TypeError",
     "evalue": "'float' object is not subscriptable",
     "output_type": "error",
     "traceback": [
      "\u001b[1;31m---------------------------------------------------------------------------\u001b[0m",
      "\u001b[1;31mTypeError\u001b[0m                                 Traceback (most recent call last)",
      "Cell \u001b[1;32mIn[33], line 5\u001b[0m\n\u001b[0;32m      3\u001b[0m name \u001b[38;5;241m=\u001b[39m \u001b[38;5;28minput\u001b[39m()\n\u001b[0;32m      4\u001b[0m score \u001b[38;5;241m=\u001b[39m \u001b[38;5;28mfloat\u001b[39m(\u001b[38;5;28minput\u001b[39m())\n\u001b[1;32m----> 5\u001b[0m \u001b[38;5;28;01mif\u001b[39;00m \u001b[43mscore\u001b[49m\u001b[43m[\u001b[49m\u001b[43mi\u001b[49m\u001b[43m]\u001b[49m \u001b[38;5;241m<\u001b[39m score[i \u001b[38;5;241m-\u001b[39m \u001b[38;5;241m1\u001b[39m]:\n\u001b[0;32m      6\u001b[0m     \u001b[38;5;28mprint\u001b[39m(name[ i \u001b[38;5;241m-\u001b[39m \u001b[38;5;241m1\u001b[39m])\n\u001b[0;32m      7\u001b[0m \u001b[38;5;28;01melif\u001b[39;00m score[i] \u001b[38;5;241m==\u001b[39m score[i \u001b[38;5;241m-\u001b[39m \u001b[38;5;241m1\u001b[39m]:\n",
      "\u001b[1;31mTypeError\u001b[0m: 'float' object is not subscriptable"
     ]
    }
   ],
   "source": [
    "if __name__ == '__main__':\n",
    "    for i in range(int(input())):\n",
    "        name = input()\n",
    "        score = float(input())\n",
    "        if score[i] < score[i - 1]:\n",
    "            print(name[ i - 1])\n",
    "        elif score[i] == score[i - 1]:\n",
    "            print(names[i - 1]) \n",
    "        else:\n",
    "            pass"
   ]
  },
  {
   "cell_type": "code",
   "execution_count": 3,
   "metadata": {},
   "outputs": [
    {
     "name": "stdout",
     "output_type": "stream",
     "text": [
      "{'b', 'a'}\n",
      "{'b': 6, 'a': 5}\n"
     ]
    }
   ],
   "source": [
    "s=\"ababababbba\"\n",
    "d={}\n",
    "x=set(s)\n",
    "print(x)\n",
    "for i in x:\n",
    "    d[i]=s.count(i)\n",
    "print(d)"
   ]
  },
  {
   "cell_type": "code",
   "execution_count": 32,
   "metadata": {},
   "outputs": [
    {
     "name": "stdout",
     "output_type": "stream",
     "text": [
      "sree\n"
     ]
    }
   ],
   "source": [
    "d = {\n",
    "    \"perk\" : \"sree\",\n",
    "    \"model\" : \"mustag\",\n",
    "    \"year\"  : 1233\n",
    "}\n",
    "print(d[\"perk\"])"
   ]
  },
  {
   "cell_type": "code",
   "execution_count": 27,
   "metadata": {},
   "outputs": [
    {
     "name": "stdout",
     "output_type": "stream",
     "text": [
      "Ford\n"
     ]
    }
   ],
   "source": [
    "thisdict = {\n",
    "  \"brand\": \"Ford\",\n",
    "  \"model\": \"Mustang\",\n",
    "  \"year\": 1964\n",
    "}\n",
    "print(thisdict[\"brand\"])"
   ]
  },
  {
   "cell_type": "code",
   "execution_count": 33,
   "metadata": {},
   "outputs": [
    {
     "name": "stdout",
     "output_type": "stream",
     "text": [
      "hello world\n"
     ]
    }
   ],
   "source": [
    "print(\"hello world\")"
   ]
  },
  {
   "cell_type": "code",
   "execution_count": 34,
   "metadata": {},
   "outputs": [
    {
     "name": "stdout",
     "output_type": "stream",
     "text": [
      "1\n",
      "2\n",
      "3\n",
      "4\n",
      "5\n",
      "6\n",
      "7\n",
      "8\n",
      "9\n"
     ]
    }
   ],
   "source": [
    "n = int(input())\n",
    "s = 0\n",
    "for i in range(n):\n",
    "    if n > 0 :\n",
    "        x = n * (n + 1 // 2)\n",
    "        s = s + 1\n",
    "        print(s)\n",
    "    else:\n",
    "        print(not sum)\n",
    "\n"
   ]
  },
  {
   "cell_type": "code",
   "execution_count": 36,
   "metadata": {},
   "outputs": [
    {
     "name": "stdout",
     "output_type": "stream",
     "text": [
      "1\n",
      "2\n",
      "3\n",
      "4\n",
      "5\n"
     ]
    }
   ],
   "source": [
    "n = int(input())\n",
    "i = 1\n",
    "while i <= n:\n",
    "    print(i)\n",
    "    i += 1"
   ]
  },
  {
   "cell_type": "code",
   "execution_count": null,
   "metadata": {},
   "outputs": [
    {
     "ename": "IndexError",
     "evalue": "pop from empty list",
     "output_type": "error",
     "traceback": [
      "\u001b[1;31m---------------------------------------------------------------------------\u001b[0m",
      "\u001b[1;31mIndexError\u001b[0m                                Traceback (most recent call last)",
      "Cell \u001b[1;32mIn[9], line 15\u001b[0m\n\u001b[0;32m      8\u001b[0m     \u001b[38;5;28;01mreturn\u001b[39;00m \u001b[38;5;124m\"\u001b[39m\u001b[38;5;124m\"\u001b[39m\u001b[38;5;241m.\u001b[39mjoin(list1)\n\u001b[0;32m     14\u001b[0m s \u001b[38;5;241m=\u001b[39m \u001b[38;5;28minput\u001b[39m()\n\u001b[1;32m---> 15\u001b[0m result \u001b[38;5;241m=\u001b[39m \u001b[43mremovestars\u001b[49m\u001b[43m(\u001b[49m\u001b[43ms\u001b[49m\u001b[43m)\u001b[49m\n\u001b[0;32m     16\u001b[0m \u001b[38;5;28mprint\u001b[39m(result)\n",
      "Cell \u001b[1;32mIn[9], line 5\u001b[0m, in \u001b[0;36mremovestars\u001b[1;34m(s)\u001b[0m\n\u001b[0;32m      3\u001b[0m \u001b[38;5;28;01mfor\u001b[39;00m i \u001b[38;5;129;01min\u001b[39;00m s:\n\u001b[0;32m      4\u001b[0m     \u001b[38;5;28;01mif\u001b[39;00m i \u001b[38;5;241m==\u001b[39m \u001b[38;5;124m'\u001b[39m\u001b[38;5;124m*\u001b[39m\u001b[38;5;124m'\u001b[39m:\n\u001b[1;32m----> 5\u001b[0m         \u001b[43mlist1\u001b[49m\u001b[38;5;241;43m.\u001b[39;49m\u001b[43mpop\u001b[49m\u001b[43m(\u001b[49m\u001b[43m)\u001b[49m\n\u001b[0;32m      6\u001b[0m     \u001b[38;5;28;01melse\u001b[39;00m:\n\u001b[0;32m      7\u001b[0m         list1\u001b[38;5;241m.\u001b[39mappend(i)\n",
      "\u001b[1;31mIndexError\u001b[0m: pop from empty list"
     ]
    }
   ],
   "source": [
    "def removestars(s):\n",
    "    list1 = []\n",
    "    for i in s:\n",
    "        if i == '*':\n",
    "            list1.pop()\n",
    "        else:\n",
    "            list1.append(i)\n",
    "    return \"\".join(list1)\n",
    "s = input()\n",
    "result = removestars(s)\n",
    "print(result)"
   ]
  },
  {
   "cell_type": "code",
   "execution_count": 4,
   "metadata": {},
   "outputs": [
    {
     "name": "stdout",
     "output_type": "stream",
     "text": [
      "pair found(4,6)\n",
      "pair not found\n"
     ]
    }
   ],
   "source": [
    "def find_pair(s, target_sum):\n",
    "    temp = {}\n",
    "    for i in s:\n",
    "        diff = target_sum - i\n",
    "        if diff in temp:\n",
    "            print(f\"pair found({diff},{i})\")\n",
    "        temp[i] = True\n",
    "    print(\"pair not found\")\n",
    "n = int(input())\n",
    "s = list(map(int,input().split()))\n",
    "target_sum = 10\n",
    "find_pair(s,target_sum)"
   ]
  },
  {
   "cell_type": "code",
   "execution_count": 16,
   "metadata": {},
   "outputs": [
    {
     "name": "stdout",
     "output_type": "stream",
     "text": [
      "H e ll o\n"
     ]
    }
   ],
   "source": [
    "import re\n",
    "x = chr(72)\n",
    "y = chr(101)\n",
    "y.strip()\n",
    "z = chr(108)*2\n",
    "a = chr(111)\n",
    "print(x,y,z,a)"
   ]
  },
  {
   "cell_type": "code",
   "execution_count": 8,
   "metadata": {},
   "outputs": [
    {
     "name": "stdout",
     "output_type": "stream",
     "text": [
      "sree vani\n"
     ]
    }
   ],
   "source": [
    "a = \"sree\"\n",
    "b = \"vani\"\n",
    "v = b.strip()\n",
    "print(a,v)"
   ]
  },
  {
   "cell_type": "code",
   "execution_count": 29,
   "metadata": {},
   "outputs": [
    {
     "name": "stdout",
     "output_type": "stream",
     "text": [
      "5\n"
     ]
    }
   ],
   "source": [
    "a = 2\n",
    "b = 3\n",
    "s = - (-a - b)               #without using +operator\n",
    "print(s)"
   ]
  },
  {
   "cell_type": "code",
   "execution_count": 27,
   "metadata": {},
   "outputs": [
    {
     "name": "stdout",
     "output_type": "stream",
     "text": [
      "1\n"
     ]
    }
   ],
   "source": [
    "def Add(x,y):\n",
    "    while ( y != 0):\n",
    "        carry = x & y\n",
    "        x = x ^ y\n",
    "        y = carry << 1\n",
    "        return x\n",
    "print(Add(2,3))\n"
   ]
  },
  {
   "cell_type": "code",
   "execution_count": 28,
   "metadata": {},
   "outputs": [
    {
     "name": "stdout",
     "output_type": "stream",
     "text": [
      "6.0\n"
     ]
    }
   ],
   "source": [
    "a = 2\n",
    "b = 3                #without using * operator\n",
    "c = a / (1 / b)\n",
    "print(c)"
   ]
  },
  {
   "cell_type": "code",
   "execution_count": 18,
   "metadata": {},
   "outputs": [
    {
     "ename": "TypeError",
     "evalue": "count() takes at least 1 argument (0 given)",
     "output_type": "error",
     "traceback": [
      "\u001b[1;31m---------------------------------------------------------------------------\u001b[0m",
      "\u001b[1;31mTypeError\u001b[0m                                 Traceback (most recent call last)",
      "Cell \u001b[1;32mIn[18], line 2\u001b[0m\n\u001b[0;32m      1\u001b[0m a \u001b[38;5;241m=\u001b[39m \u001b[38;5;124m\"\u001b[39m\u001b[38;5;124msree\u001b[39m\u001b[38;5;124m\"\u001b[39m\n\u001b[1;32m----> 2\u001b[0m x \u001b[38;5;241m=\u001b[39m \u001b[43ma\u001b[49m\u001b[38;5;241;43m.\u001b[39;49m\u001b[43mcount\u001b[49m\u001b[43m(\u001b[49m\u001b[43m)\u001b[49m\n\u001b[0;32m      3\u001b[0m \u001b[38;5;28mprint\u001b[39m(x)\n",
      "\u001b[1;31mTypeError\u001b[0m: count() takes at least 1 argument (0 given)"
     ]
    }
   ],
   "source": [
    "a = \"sree\"\n",
    "x = a.count()\n",
    "print(x)"
   ]
  },
  {
   "cell_type": "code",
   "execution_count": 10,
   "metadata": {},
   "outputs": [
    {
     "name": "stdout",
     "output_type": "stream",
     "text": [
      "['mass', 'as', 'hero', 'superhero']\n",
      "['as', 'hero', 'mass', 'superhero']\n",
      "['as', 'hero', 'mass', 'superhero']\n",
      "['as', 'hero', 'mass', 'superhero']\n",
      "['as', 'hero', 'mass', 'superhero']\n",
      "['as', 'hero', 'mass', 'superhero']\n",
      "['as', 'hero', 'mass', 'superhero']\n",
      "['as', 'hero', 'mass', 'superhero']\n"
     ]
    }
   ],
   "source": [
    "s1  = [\"mass\",\"as\",\"hero\",\"superhero\"]\n",
    "c = 0\n",
    "for i in s1:\n",
    "    print(s1)\n",
    "    c = c + 1\n",
    "    s1.sort()\n",
    "    print(s1)\n"
   ]
  },
  {
   "cell_type": "code",
   "execution_count": 3,
   "metadata": {},
   "outputs": [
    {
     "name": "stdout",
     "output_type": "stream",
     "text": [
      "['mass', 'as', 'hero', 'superhero']\n"
     ]
    }
   ],
   "source": [
    "s1  = [\"mass\",\"as\",\"hero\",\"superhero\"]\n",
    "s1[1:3]\n",
    "print(s1)"
   ]
  },
  {
   "cell_type": "code",
   "execution_count": 12,
   "metadata": {},
   "outputs": [
    {
     "ename": "TypeError",
     "evalue": "'str' object cannot be interpreted as an integer",
     "output_type": "error",
     "traceback": [
      "\u001b[1;31m---------------------------------------------------------------------------\u001b[0m",
      "\u001b[1;31mTypeError\u001b[0m                                 Traceback (most recent call last)",
      "Cell \u001b[1;32mIn[12], line 2\u001b[0m\n\u001b[0;32m      1\u001b[0m s1 \u001b[38;5;241m=\u001b[39m [\u001b[38;5;124m\"\u001b[39m\u001b[38;5;124msree\u001b[39m\u001b[38;5;124m\"\u001b[39m,\u001b[38;5;124m\"\u001b[39m\u001b[38;5;124mvani\u001b[39m\u001b[38;5;124m\"\u001b[39m,\u001b[38;5;124m\"\u001b[39m\u001b[38;5;124mdasari\u001b[39m\u001b[38;5;124m\"\u001b[39m]\n\u001b[1;32m----> 2\u001b[0m \u001b[43ms1\u001b[49m\u001b[38;5;241;43m.\u001b[39;49m\u001b[43minsert\u001b[49m\u001b[43m(\u001b[49m\u001b[38;5;124;43m\"\u001b[39;49m\u001b[38;5;124;43msree\u001b[39;49m\u001b[38;5;124;43m\"\u001b[39;49m\u001b[43m,\u001b[49m\u001b[38;5;124;43m\"\u001b[39;49m\u001b[38;5;124;43mderty\u001b[39;49m\u001b[38;5;124;43m\"\u001b[39;49m\u001b[43m)\u001b[49m\n\u001b[0;32m      3\u001b[0m \u001b[38;5;28mprint\u001b[39m(s1)\n",
      "\u001b[1;31mTypeError\u001b[0m: 'str' object cannot be interpreted as an integer"
     ]
    }
   ],
   "source": [
    "s1 = [\"sree\",\"vani\",\"dasari\"]\n",
    "s1.insert(\"sree\",\"derty\")\n",
    "print(s1)"
   ]
  },
  {
   "cell_type": "code",
   "execution_count": 16,
   "metadata": {},
   "outputs": [
    {
     "ename": "TypeError",
     "evalue": "list indices must be integers or slices, not str",
     "output_type": "error",
     "traceback": [
      "\u001b[1;31m---------------------------------------------------------------------------\u001b[0m",
      "\u001b[1;31mTypeError\u001b[0m                                 Traceback (most recent call last)",
      "Cell \u001b[1;32mIn[16], line 5\u001b[0m\n\u001b[0;32m      3\u001b[0m c \u001b[38;5;241m=\u001b[39m \u001b[38;5;241m0\u001b[39m\n\u001b[0;32m      4\u001b[0m \u001b[38;5;28;01mfor\u001b[39;00m i \u001b[38;5;129;01min\u001b[39;00m s1:\n\u001b[1;32m----> 5\u001b[0m     \u001b[38;5;28;01mif\u001b[39;00m \u001b[43ms1\u001b[49m\u001b[43m[\u001b[49m\u001b[43mi\u001b[49m\u001b[43m]\u001b[49m \u001b[38;5;241m==\u001b[39m s1[i] \u001b[38;5;241m+\u001b[39m \u001b[38;5;241m1\u001b[39m:\n\u001b[0;32m      6\u001b[0m         \u001b[38;5;28mprint\u001b[39m(i)\n\u001b[0;32m      7\u001b[0m         c \u001b[38;5;241m=\u001b[39m c \u001b[38;5;241m+\u001b[39m \u001b[38;5;241m1\u001b[39m\n",
      "\u001b[1;31mTypeError\u001b[0m: list indices must be integers or slices, not str"
     ]
    }
   ],
   "source": [
    "s1 = [\"sree\",\"sreevani\",\"dasari\",\"dasarifamily\"]\n",
    "#print(s1)\n",
    "c = 0\n",
    "for i in s1:\n",
    "    if s1[i] == s1[i] + 1:\n",
    "        print(i)\n",
    "        c = c + 1"
   ]
  },
  {
   "cell_type": "code",
   "execution_count": 22,
   "metadata": {},
   "outputs": [
    {
     "ename": "TypeError",
     "evalue": "unsupported operand type(s) for //: 'str' and 'int'",
     "output_type": "error",
     "traceback": [
      "\u001b[1;31m---------------------------------------------------------------------------\u001b[0m",
      "\u001b[1;31mTypeError\u001b[0m                                 Traceback (most recent call last)",
      "Cell \u001b[1;32mIn[22], line 4\u001b[0m\n\u001b[0;32m      2\u001b[0m c \u001b[38;5;241m=\u001b[39m \u001b[38;5;241m0\u001b[39m\n\u001b[0;32m      3\u001b[0m \u001b[38;5;28;01mfor\u001b[39;00m  i \u001b[38;5;129;01min\u001b[39;00m s:\n\u001b[1;32m----> 4\u001b[0m     \u001b[38;5;28;01mif\u001b[39;00m \u001b[43mi\u001b[49m\u001b[43m \u001b[49m\u001b[38;5;241;43m/\u001b[39;49m\u001b[38;5;241;43m/\u001b[39;49m\u001b[43m  \u001b[49m\u001b[38;5;241;43m2\u001b[39;49m \u001b[38;5;241m==\u001b[39m \u001b[38;5;241m0\u001b[39m:\n\u001b[0;32m      5\u001b[0m         \u001b[38;5;28mprint\u001b[39m(i)\n",
      "\u001b[1;31mTypeError\u001b[0m: unsupported operand type(s) for //: 'str' and 'int'"
     ]
    }
   ],
   "source": [
    "s = \"book\"\n",
    "c = 0\n",
    "for  i in s:\n",
    "    if i //  2 == 0:\n",
    "        print(i)"
   ]
  },
  {
   "cell_type": "code",
   "execution_count": 31,
   "metadata": {},
   "outputs": [],
   "source": [
    "import string\n",
    "# Complete the solve function below.\n",
    "def solve(s):\n",
    "    l = s.split(\" \")\n",
    "    s = ''\n",
    "    for i in l:\n",
    "        s = s+i.capitalize()+' '\n",
    "        \n",
    "    return s\n",
    "if __name__ == '__main__':\n",
    "    s = input()\n",
    "result = solve(s)"
   ]
  },
  {
   "cell_type": "code",
   "execution_count": 39,
   "metadata": {},
   "outputs": [
    {
     "name": "stdout",
     "output_type": "stream",
     "text": [
      "positive\n"
     ]
    }
   ],
   "source": [
    "n = int(input())\n",
    "if n > 0:\n",
    "    if n == 0:\n",
    "        print(\"zero\")\n",
    "    else:\n",
    "        print(\"positive\")\n",
    "else:\n",
    "    print(\"negaitive\")\n"
   ]
  },
  {
   "cell_type": "code",
   "execution_count": 6,
   "metadata": {},
   "outputs": [
    {
     "name": "stdout",
     "output_type": "stream",
     "text": [
      "1.122462048309373\n"
     ]
    }
   ],
   "source": [
    "a = 2\n",
    "x = a ** (1 / 6)\n",
    "print(x)"
   ]
  },
  {
   "cell_type": "code",
   "execution_count": 50,
   "metadata": {},
   "outputs": [
    {
     "name": "stdout",
     "output_type": "stream",
     "text": [
      "Square root : 1.4142135623730951\n",
      "Square: 9\n",
      "Cube root: 1.2599210498948732\n"
     ]
    }
   ],
   "source": [
    "import math\n",
    "a = int(input(\"enter first number: \"))\n",
    "b = int(input(\"enter second number: \"))\n",
    "c = int(input(\"enter third number: \"))\n",
    "\n",
    "sqroot = math.sqrt(a)\n",
    "square = b ** 2\n",
    "cb = c ** (1/3)\n",
    "\n",
    "print(\"Square root :\", sqroot)\n",
    "print(\"Square:\", square)\n",
    "print(\"Cube root:\", cb)\n"
   ]
  },
  {
   "cell_type": "code",
   "execution_count": 51,
   "metadata": {},
   "outputs": [
    {
     "name": "stdout",
     "output_type": "stream",
     "text": [
      "Multiplication Table of : \n",
      "5 x 1 = 5\n",
      "5 x 2 = 10\n",
      "5 x 3 = 15\n",
      "5 x 4 = 20\n",
      "5 x 5 = 25\n",
      "5 x 6 = 30\n",
      "5 x 7 = 35\n",
      "5 x 8 = 40\n",
      "5 x 9 = 45\n",
      "5 x 10 = 50\n"
     ]
    }
   ],
   "source": [
    "num = int(input(\" Enter the number : \"))    \n",
    "print(\"Multiplication Table of : \")  \n",
    "for i in range(1,11):    \n",
    "    print(num,'x',i,'=',num*i)\n"
   ]
  },
  {
   "cell_type": "code",
   "execution_count": 13,
   "metadata": {},
   "outputs": [
    {
     "name": "stdout",
     "output_type": "stream",
     "text": [
      "3is a Not Prime\n",
      "3is a Not Prime\n"
     ]
    }
   ],
   "source": [
    "num = 3\n",
    "for i in range(2,num+1):\n",
    "    if num % 2 == 0:           \n",
    "        print(str(num)+ \"is a Prime\")\n",
    "    else:\n",
    "        print(str(num)+ \"is a Not Prime\")"
   ]
  },
  {
   "cell_type": "code",
   "execution_count": 59,
   "metadata": {},
   "outputs": [
    {
     "name": "stdout",
     "output_type": "stream",
     "text": [
      "8\n",
      "3\n",
      "2\n"
     ]
    }
   ],
   "source": [
    "base = int(input())\n",
    "expo = int(input())\n",
    "result = 1\n",
    "i = 1\n",
    "while i <= expo:\n",
    "    result *= base\n",
    "    i += 1\n",
    "print(result)\n",
    "print(expo)\n",
    "print(base)\n",
    "    "
   ]
  },
  {
   "cell_type": "code",
   "execution_count": 15,
   "metadata": {},
   "outputs": [
    {
     "name": "stdout",
     "output_type": "stream",
     "text": [
      "2 3 "
     ]
    }
   ],
   "source": [
    "#break statementx\n",
    "l = 2\n",
    "h = 8\n",
    "for i in range(l , h + 1):\n",
    "    #print(i,end=\" \")\n",
    "    if i % 4 == 0:\n",
    "        break\n",
    "    print(i,end=\" \")"
   ]
  },
  {
   "cell_type": "code",
   "execution_count": 16,
   "metadata": {},
   "outputs": [
    {
     "name": "stdout",
     "output_type": "stream",
     "text": [
      "2\n",
      "3\n",
      "5\n",
      "6\n",
      "7\n"
     ]
    }
   ],
   "source": [
    "i = 2\n",
    "h = 8\n",
    "for l in range(i, h  + 1 ):\n",
    "    if l % 4 == 0:\n",
    "        continue\n",
    "    print(l)\n",
    "    l += 1"
   ]
  },
  {
   "cell_type": "code",
   "execution_count": 38,
   "metadata": {},
   "outputs": [
    {
     "name": "stdout",
     "output_type": "stream",
     "text": [
      "Positive\n"
     ]
    }
   ],
   "source": [
    "num = int(input(\"Insert a number:\"))\n",
    "if num >= 0:\n",
    "    if num == 0:\n",
    "        print(\"Zero\")\n",
    "    else:\n",
    "        print(\"Positive\")\n",
    "else:\n",
    "    print(\"Negative\")\n"
   ]
  },
  {
   "cell_type": "code",
   "execution_count": 23,
   "metadata": {},
   "outputs": [
    {
     "name": "stdout",
     "output_type": "stream",
     "text": [
      "prime\n",
      "Not prime\n",
      "prime\n",
      "Not prime\n"
     ]
    }
   ],
   "source": [
    "n = int(input())\n",
    "for i in range(n):\n",
    "    if i % 2 == 0:\n",
    "        print(\"prime\")\n",
    "    else:\n",
    "        print(\"Not prime\")"
   ]
  },
  {
   "cell_type": "code",
   "execution_count": 25,
   "metadata": {},
   "outputs": [
    {
     "name": "stdout",
     "output_type": "stream",
     "text": [
      "even\n",
      "even\n",
      "even\n",
      "even\n"
     ]
    }
   ],
   "source": [
    "n = int(input())\n",
    "for i in range(n):\n",
    "    if n % 2 == 0:\n",
    "        print(\"even\")\n",
    "    else:\n",
    "        print(\"Not even\")"
   ]
  },
  {
   "cell_type": "code",
   "execution_count": 69,
   "metadata": {},
   "outputs": [
    {
     "name": "stdout",
     "output_type": "stream",
     "text": [
      "6\n",
      "5\n",
      "4\n",
      "3\n",
      "2\n",
      "1\n"
     ]
    }
   ],
   "source": [
    "n = int(input())\n",
    "for i in range(n,0,-1):\n",
    "    print(i)\n"
   ]
  },
  {
   "cell_type": "code",
   "execution_count": 73,
   "metadata": {},
   "outputs": [
    {
     "name": "stdout",
     "output_type": "stream",
     "text": [
      "3\n",
      "7\n",
      "12\n",
      "18\n",
      "25\n",
      "33\n",
      "42\n"
     ]
    }
   ],
   "source": [
    "n = int(input())\n",
    "sum = 0\n",
    "for i in range(3,n+1):\n",
    "    sum += i\n",
    "    print(sum)"
   ]
  },
  {
   "cell_type": "code",
   "execution_count": 74,
   "metadata": {},
   "outputs": [
    {
     "name": "stdout",
     "output_type": "stream",
     "text": [
      "42\n",
      "42\n",
      "42\n",
      "42\n",
      "42\n",
      "42\n",
      "42\n"
     ]
    }
   ],
   "source": [
    "a = 3\n",
    "b = 9\n",
    "for i in range(a,b+1):\n",
    "    s = b * (b+1) // 2 - a * (a+1) // 2 + a\n",
    "    print(s)"
   ]
  },
  {
   "cell_type": "code",
   "execution_count": 80,
   "metadata": {},
   "outputs": [
    {
     "name": "stdout",
     "output_type": "stream",
     "text": [
      "2004 is a leap year\n"
     ]
    }
   ],
   "source": [
    "year = 2004\n",
    "if (year % 400 == 0) or (year % 4 == 0 and year % 100 != 0):\n",
    "    print(f\"{year} is a leap year\")\n",
    "else:\n",
    "    print(f\"{year} is not a leap year\")\n"
   ]
  },
  {
   "cell_type": "code",
   "execution_count": 85,
   "metadata": {},
   "outputs": [
    {
     "name": "stdout",
     "output_type": "stream",
     "text": [
      "99 is not a prime number\n"
     ]
    }
   ],
   "source": [
    "n = int(input())\n",
    "count = 0\n",
    "for i in range(3,n+1):\n",
    "    if n % i == 0:\n",
    "        count = count + 1\n",
    "if count == 2:\n",
    "    print(f\"{n} is a prime number\")\n",
    "else:\n",
    "    print(f\"{n} is not a prime number\")"
   ]
  },
  {
   "cell_type": "code",
   "execution_count": 7,
   "metadata": {},
   "outputs": [
    {
     "name": "stdout",
     "output_type": "stream",
     "text": [
      "2 3 5 7 11 13 17 19 23 29 31 37 41 43 47 53 59 61 67 71 73 79 83 89 97 "
     ]
    }
   ],
   "source": [
    "min = int(input())\n",
    "max = int(input())\n",
    "for i in range(min,max + 1):\n",
    "    count = 0\n",
    "    for j in range(1,i+1):\n",
    "        if i % j == 0:\n",
    "            count += 1\n",
    "    if count == 2:\n",
    "        print(i,end=\" \")         "
   ]
  },
  {
   "cell_type": "code",
   "execution_count": 91,
   "metadata": {},
   "outputs": [
    {
     "name": "stdout",
     "output_type": "stream",
     "text": [
      "4321\n"
     ]
    }
   ],
   "source": [
    "n = int(input())\n",
    "reverse = 0\n",
    "while n > 0:\n",
    "    rem = n % 10\n",
    "    reverse = reverse * 10 + rem\n",
    "    n = n // 10\n",
    "print(reverse)"
   ]
  },
  {
   "cell_type": "code",
   "execution_count": 2,
   "metadata": {},
   "outputs": [
    {
     "name": "stdout",
     "output_type": "stream",
     "text": [
      "-4321\n"
     ]
    }
   ],
   "source": [
    "def reverse(n):\n",
    "    if n < 0:\n",
    "        n = str(abs(n)) + \"-\"\n",
    "    return int(str(n)[::-1])\n",
    "n = int(input())\n",
    "print(reverse(n))                        "
   ]
  },
  {
   "cell_type": "code",
   "execution_count": null,
   "metadata": {},
   "outputs": [
    {
     "name": "stdout",
     "output_type": "stream",
     "text": [
      "Not palindrome\n"
     ]
    }
   ],
   "source": [
    "n = int(input())\n",
    "temp = n\n",
    "reverse = 0\n",
    "while temp > 0:\n",
    "    rem = temp % 10\n",
    "    reverse = reverse * 10 + rem                   \n",
    "    temp = temp // 10\n",
    "if n == reverse:\n",
    "    print(\"palindrome\")\n",
    "else:                               \n",
    "    print(\"Not palindrome\")             "
   ]
  },
  {
   "cell_type": "code",
   "execution_count": 12,
   "metadata": {},
   "outputs": [
    {
     "name": "stdout",
     "output_type": "stream",
     "text": [
      "125 is a Armstrong number\n",
      "125 is not a Armstrong number\n",
      "125 is not a Armstrong number\n"
     ]
    }
   ],
   "source": [
    "n = int(input()) #153\n",
    "temp = n\n",
    "sum = 0\n",
    "while temp > 0:\n",
    "    order = len(str(n))\n",
    "    digit = temp % 10 # 3,5,1\n",
    "    sum = sum + pow(digit,order)\n",
    "    temp = temp // 10\n",
    "    if n == sum:\n",
    "        print(str(n) + \" is a Armstrong number\")\n",
    "    else:\n",
    "        print(str(n)+ \" is not a Armstrong number\")"
   ]
  },
  {
   "cell_type": "code",
   "execution_count": 14,
   "metadata": {},
   "outputs": [
    {
     "name": "stdout",
     "output_type": "stream",
     "text": [
      "153,"
     ]
    }
   ],
   "source": [
    "low = int(input())\n",
    "high =int(input())\n",
    "for n in range(low,high+1):\n",
    "    temp = n\n",
    "    sum = 0\n",
    "    while temp > 0:\n",
    "        order = len(str(n))\n",
    "        digit = temp % 10 # 3,5,1\n",
    "        sum = sum + pow(digit,order)\n",
    "        temp = temp // 10\n",
    "        if n == sum:\n",
    "            print(n,end=\",\")\n",
    "        \n"
   ]
  },
  {
   "cell_type": "code",
   "execution_count": 19,
   "metadata": {},
   "outputs": [
    {
     "name": "stdout",
     "output_type": "stream",
     "text": [
      "2,617,"
     ]
    }
   ],
   "source": [
    "n = int(input())\n",
    "for i in range(1,n+1):\n",
    "    if n % i == 0:\n",
    "        count = 0\n",
    "        for j in range(1,i+1):\n",
    "            if i % j == 0:\n",
    "                count = count + 1\n",
    "        if count == 2:\n",
    "            print(i,end=\",\")"
   ]
  },
  {
   "cell_type": "code",
   "execution_count": 31,
   "metadata": {},
   "outputs": [
    {
     "name": "stdout",
     "output_type": "stream",
     "text": [
      "hcf of Two numbers is 6\n"
     ]
    }
   ],
   "source": [
    "n1 = int(input())\n",
    "n2 = int(input())\n",
    "hcf = 1\n",
    "lcm = 1\n",
    "smaller = n1 if n1 < n2 else n2\n",
    "for i in range(1,smaller+1):\n",
    "    if (n1 % i == 0) and (n2 % i == 0):\n",
    "        hcf = i\n",
    "        lcm = (n1 * n2) // hcf\n",
    "print(\"hcf of Two numbers is \" + str(lcm))"
   ]
  },
  {
   "cell_type": "code",
   "execution_count": 30,
   "metadata": {},
   "outputs": [
    {
     "name": "stdout",
     "output_type": "stream",
     "text": [
      "hcf of Two numbers is 9\n"
     ]
    }
   ],
   "source": [
    "n1 = int(input())\n",
    "n2 = int(input())\n",
    "while n1 != n2:\n",
    "    if n1 > n2:\n",
    "        n1 = n1 - n2\n",
    "    else:\n",
    "        n2 = n2 - n1\n",
    "print(\"hcf of Two numbers is \" + str(n2))\n"
   ]
  },
  {
   "cell_type": "code",
   "execution_count": 35,
   "metadata": {},
   "outputs": [
    {
     "name": "stdout",
     "output_type": "stream",
     "text": [
      "257\n"
     ]
    }
   ],
   "source": [
    "def convert(num):\n",
    "    i = 0\n",
    "    decimal = 0\n",
    "    base = 16\n",
    "    while num != 0:\n",
    "        digit = num % 10\n",
    "        decimal = decimal + digit * pow(base,i)\n",
    "        num //= 10\n",
    "        i = i + 1\n",
    "    return decimal\n",
    "num = int(input())\n",
    "print(convert(num))\n",
    "\n"
   ]
  },
  {
   "cell_type": "code",
   "execution_count": 36,
   "metadata": {},
   "outputs": [
    {
     "name": "stdout",
     "output_type": "stream",
     "text": [
      "Decimal equivalent: 257\n"
     ]
    }
   ],
   "source": [
    "def convert_to_decimal(hexadecimal):\n",
    "    decimal = 0\n",
    "    pos = 0\n",
    "    for char in hexadecimal[::-1]:\n",
    "        if char.isdigit():\n",
    "            digit = int(char)\n",
    "        else:\n",
    "            digit = ord(char.upper()) - ord('A') + 10\n",
    "        decimal += digit * (16 ** pos)\n",
    "        pos += 1\n",
    "    return decimal\n",
    "\n",
    "# Main function\n",
    "if __name__ == \"__main__\":\n",
    "    hex_input = input(\"Enter hexadecimal number: \")\n",
    "    print(\"Decimal equivalent:\", convert_to_decimal(hex_input))\n"
   ]
  },
  {
   "cell_type": "code",
   "execution_count": null,
   "metadata": {},
   "outputs": [
    {
     "name": "stdout",
     "output_type": "stream",
     "text": [
      "1\n",
      "11\n"
     ]
    }
   ],
   "source": [
    "def convert(n):\n",
    "    i = 1\n",
    "    binary = 0\n",
    "    while n != 0:\n",
    "        rem = n % 10\n",
    "        n = n // 10\n",
    "        binary = binary + rem * i\n",
    "        i *= 10\n",
    "        print(binary)\n",
    "n = int(input())\n",
    "convert(n)"
   ]
  },
  {
   "cell_type": "code",
   "execution_count": 46,
   "metadata": {},
   "outputs": [
    {
     "name": "stdout",
     "output_type": "stream",
     "text": [
      "94"
     ]
    }
   ],
   "source": [
    "def convert_to_binary(num):\n",
    "    binary_array = []\n",
    "    \n",
    "    while num > 0:\n",
    "        binary_array.append(num % 16)\n",
    "        num = num // 16\n",
    "    \n",
    "    for i in range(len(binary_array) - 1, -1, -1):\n",
    "        print(binary_array[i], end=\"\")\n",
    "\n",
    "# Main function\n",
    "if __name__ == \"__main__\":\n",
    "    n = 148\n",
    "    convert_to_binary(n)\n"
   ]
  },
  {
   "cell_type": "code",
   "execution_count": null,
   "metadata": {},
   "outputs": [
    {
     "name": "stdout",
     "output_type": "stream",
     "text": [
      "Octal equivalent:13"
     ]
    }
   ],
   "source": [
    "def convert_to_octal(num):\n",
    "    octal_array = []\n",
    "    \n",
    "    while num > 0:\n",
    "        octal_array.append(num % 16)\n",
    "        num //= 8\n",
    "    \n",
    "    for digit in reversed(octal_array):\n",
    "        print(digit, end=\"\")\n",
    "\n",
    "# Main function\n",
    "if __name__ == \"__main__\":\n",
    "    n = 11\n",
    "    print(\"Octal equivalent:\", end=\"\")\n",
    "    convert_to_octal(n)\n"
   ]
  },
  {
   "cell_type": "code",
   "execution_count": null,
   "metadata": {},
   "outputs": [],
   "source": []
  }
 ],
 "metadata": {
  "kernelspec": {
   "display_name": "Python 3",
   "language": "python",
   "name": "python3"
  },
  "language_info": {
   "codemirror_mode": {
    "name": "ipython",
    "version": 3
   },
   "file_extension": ".py",
   "mimetype": "text/x-python",
   "name": "python",
   "nbconvert_exporter": "python",
   "pygments_lexer": "ipython3",
   "version": "3.12.4"
  }
 },
 "nbformat": 4,
 "nbformat_minor": 2
}
